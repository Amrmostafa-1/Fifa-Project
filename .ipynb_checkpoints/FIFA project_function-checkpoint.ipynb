{
 "cells": [
  {
   "cell_type": "code",
   "execution_count": 1,
   "id": "dbc17134",
   "metadata": {},
   "outputs": [],
   "source": [
    "import pandas as pd\n",
    "import numpy as np\n",
    "import matplotlib.pyplot as plt\n",
    "import scipy.stats as stats\n",
    "import seaborn as sns\n",
    "import math\n",
    "from sklearn import linear_model\n",
    "from sklearn.linear_model import LinearRegression\n",
    "from sklearn.preprocessing import MinMaxScaler\n",
    "from sklearn.preprocessing import OneHotEncoder\n",
    "from sklearn.model_selection import train_test_split\n",
    "from sklearn.metrics import r2_score\n",
    "from sklearn.metrics import mean_squared_error\n",
    "from sklearn.metrics import mean_absolute_error"
   ]
  },
  {
   "cell_type": "code",
   "execution_count": null,
   "id": "93f66ddd",
   "metadata": {},
   "outputs": [],
   "source": [
    "def clean_and_train_model_fifa(file_path):\n",
    "    \n",
    "        fifa = pd.read_csv(file_path)\n",
    "        pd.set_option('display.max_columns', None)\n",
    "        fifa = fifa.drop_duplicates()\n",
    "        fifa_new = fifa.drop(columns=['Name', 'Age', 'Nationality', 'Club', 'Position', 'Team & Contract', 'Height', 'Weight', 'foot', 'Joined', 'Loan Date End', 'Wage', 'Release Clause', 'Contract', 'W/F', 'SM', 'A/W', 'D/W'])\n",
    "        fifa_new.columns = fifa_new.columns.str.lower().str.replace(' ', '_')\n",
    "        fifa_new['ir'] = fifa_new['ir'].replace('[^0-9]', '', regex=True).astype(int)\n",
    "        \n",
    "        # Function to convert hits\n",
    "        def convert_k_hits(value):\n",
    "            if 'K' in str(value):\n",
    "                return float(value.replace('K', '')) * 1000\n",
    "            return value\n",
    "        fifa_new['hits'] = fifa_new['hits'].apply(convert_k_hits).astype(int)\n",
    "        \n",
    "        # Function to convert values\n",
    "        def convert_k_value(value):\n",
    "            value = str(value).replace('€', '')\n",
    "            if 'K' in value:\n",
    "                return float(value.replace('K', '')) / 1000\n",
    "            elif 'M' in value:\n",
    "                return float(value.replace('M', ''))\n",
    "            return float(value)\n",
    "        fifa_new['value'] = fifa_new['value'].apply(convert_k_value)\n",
    "        \n",
    "        # Dealing with null values\n",
    "        fifa_new = fifa_new.dropna(subset=['volleys'])\n",
    "        fifa_new = fifa_new.fillna({'composure': fifa_new['composure'].median()})\n",
    "        \n",
    "        # Handle + and - in specific columns\n",
    "        positions =  ['LS', 'ST', 'RS', 'LW', 'LF', 'CF',  'RF', 'RW', 'LAM', 'CAM', 'RAM', 'LM', 'LWB', 'LDM', 'LCM', 'CM', 'RCM', 'RM', 'CDM', 'RDM', 'RWB', 'LB', 'LCB', 'CB', 'RCB', 'RB', 'GK']\n",
    "        l_positions = [item.lower() for item in positions]\n",
    "        for col in l_positions:\n",
    "            fifa_new[col] = fifa_new[col].replace(r'[+-]\\d*$', '', regex=True).replace(r'\\+$', '', regex=True).astype(float)\n",
    "        \n",
    "        # Model preparation \n",
    "        y = fifa_new['ova']\n",
    "        X = fifa_new.drop(['ova', 'id'], axis=1)\n",
    "        X_num = X.select_dtypes(include=np.number)\n",
    "        X_cat = X.select_dtypes(include=object)\n",
    "        \n",
    "        # Scaling and encoding\n",
    "        MinMaxtransformer = MinMaxScaler().fit(X_num)\n",
    "        X_normalized = MinMaxtransformer.transform(X_num)\n",
    "        X_normalized = pd.DataFrame(X_normalized, columns=X_num.columns)\n",
    "        encoder = OneHotEncoder(drop='first').fit(X_cat)\n",
    "        cols = encoder.get_feature_names_out(input_features=X_cat.columns)\n",
    "        X_cat_encode = pd.DataFrame(encoder.transform(X_cat).toarray(), columns=cols)\n",
    "        X = pd.concat([X_normalized, X_cat_encode], axis=1)\n",
    "        \n",
    "        # Training the model\n",
    "        X_train, X_test, y_train, y_test = train_test_split(X, y, test_size=0.2)\n",
    "        lm = LinearRegression()\n",
    "        lm.fit(X_train, y_train)\n",
    "        predictions_test = lm.predict(X_test)\n",
    "        mse = round(mean_squared_error(y_test,predictions_test), 2)\n",
    "        rmse = round(np.sqrt(mse), 2)\n",
    "        r2 = round(r2_score(y_test, predictions_test), 2)\n",
    "        mae = round(mean_absolute_error(y_test, predictions_test), 2)\n",
    "        \n",
    "        print(\"mse =\",mse)\n",
    "        print(\"rmse =\",rmse)\n",
    "        print(\"r2 score =\",r2)\n",
    "        print(\"mae =\",mae)\n",
    "        \n",
    "        return lm\n"
   ]
  },
  {
   "cell_type": "code",
   "execution_count": null,
   "id": "5d0280f0",
   "metadata": {},
   "outputs": [],
   "source": [
    "lm = clean_and_train_model_fifa('fifa21_train.csv')"
   ]
  },
  {
   "cell_type": "code",
   "execution_count": 2,
   "id": "83325b87",
   "metadata": {},
   "outputs": [],
   "source": [
    "def clean_fifa(file_path):\n",
    "    \n",
    "        fifa = pd.read_csv(file_path)\n",
    "        pd.set_option('display.max_columns', None)\n",
    "        fifa = fifa.drop_duplicates()\n",
    "        fifa_new = fifa.drop(columns=['Name', 'Age', 'Nationality', 'Club', 'Position', 'Team & Contract', 'Height', 'Weight', 'foot', 'Joined', 'Loan Date End', 'Wage', 'Release Clause', 'Contract', 'W/F', 'SM', 'A/W', 'D/W'])\n",
    "        fifa_new.columns = fifa_new.columns.str.lower().str.replace(' ', '_')\n",
    "        fifa_new['ir'] = fifa_new['ir'].replace('[^0-9]', '', regex=True).astype(int)\n",
    "        \n",
    "        # Function to convert hits\n",
    "        def convert_k_hits(value):\n",
    "            if 'K' in str(value):\n",
    "                return float(value.replace('K', '')) * 1000\n",
    "            return value\n",
    "        fifa_new['hits'] = fifa_new['hits'].apply(convert_k_hits).astype(int)\n",
    "        \n",
    "        # Function to convert values\n",
    "        def convert_k_value(value):\n",
    "            value = str(value).replace('€', '')\n",
    "            if 'K' in value:\n",
    "                return float(value.replace('K', '')) / 1000\n",
    "            elif 'M' in value:\n",
    "                return float(value.replace('M', ''))\n",
    "            return float(value)\n",
    "        fifa_new['value'] = fifa_new['value'].apply(convert_k_value)\n",
    "        \n",
    "        # Dealing with null values\n",
    "        fifa_new = fifa_new.dropna(subset=['volleys'])\n",
    "        fifa_new = fifa_new.fillna({'composure': fifa_new['composure'].median()})\n",
    "        \n",
    "        # Handle + and - in specific columns\n",
    "        positions =  ['LS', 'ST', 'RS', 'LW', 'LF', 'CF',  'RF', 'RW', 'LAM', 'CAM', 'RAM', 'LM', 'LWB', 'LDM', 'LCM', 'CM', 'RCM', 'RM', 'CDM', 'RDM', 'RWB', 'LB', 'LCB', 'CB', 'RCB', 'RB', 'GK']\n",
    "        l_positions = [item.lower() for item in positions]\n",
    "        for col in l_positions:\n",
    "            fifa_new[col] = fifa_new[col].replace(r'[+-]\\d*$', '', regex=True).replace(r'\\+$', '', regex=True).astype(float)\n",
    "        \n",
    "        # Model preparation \n",
    "        y = fifa_new['ova']\n",
    "        X = fifa_new.drop(['ova', 'id'], axis=1)\n",
    "        X_num = X.select_dtypes(include=np.number)\n",
    "        X_cat = X.select_dtypes(include=object)\n",
    "        \n",
    "       \n",
    "        \n",
    "        return X_cat, X_num, y"
   ]
  },
  {
   "cell_type": "code",
   "execution_count": 3,
   "id": "f8da6be1",
   "metadata": {},
   "outputs": [],
   "source": [
    "X_cat1, X_num1, y1= clean_fifa('fifa21_validate.csv')"
   ]
  },
  {
   "cell_type": "code",
   "execution_count": 4,
   "id": "7690b75a",
   "metadata": {},
   "outputs": [],
   "source": [
    "X_cat, X_num, y= clean_fifa('fifa21_train.csv')"
   ]
  },
  {
   "cell_type": "code",
   "execution_count": 6,
   "id": "7886992a",
   "metadata": {},
   "outputs": [],
   "source": [
    " # Scaling and encoding\n",
    "MinMaxtransformer = MinMaxScaler().fit(X_num)\n",
    "X_normalized = MinMaxtransformer.transform(X_num)\n",
    "X_normalized = pd.DataFrame(X_normalized, columns=X_num.columns)\n",
    "encoder = OneHotEncoder(drop='first').fit(X_cat)\n",
    "cols = encoder.get_feature_names_out(input_features=X_cat.columns)\n",
    "X_cat_encode = pd.DataFrame(encoder.transform(X_cat).toarray(), columns=cols)\n",
    "X = pd.concat([X_normalized, X_cat_encode], axis=1)"
   ]
  },
  {
   "cell_type": "code",
   "execution_count": 7,
   "id": "4f35b8e2",
   "metadata": {},
   "outputs": [],
   "source": [
    "X_normalized1 = MinMaxtransformer.transform(X_num1)\n",
    "X_normalized1 = pd.DataFrame(X_normalized1, columns=X_num1.columns)\n",
    "encoder = OneHotEncoder(drop='first').fit(X_cat)\n",
    "cols1 = encoder.get_feature_names_out(input_features=X_cat1.columns)\n",
    "X_cat_encode1 = pd.DataFrame(encoder.transform(X_cat1).toarray(), columns=cols1)\n",
    "X1 = pd.concat([X_normalized1, X_cat_encode1], axis=1)"
   ]
  },
  {
   "cell_type": "code",
   "execution_count": 8,
   "id": "df5a047d",
   "metadata": {},
   "outputs": [
    {
     "data": {
      "text/html": [
       "<style>#sk-container-id-1 {color: black;background-color: white;}#sk-container-id-1 pre{padding: 0;}#sk-container-id-1 div.sk-toggleable {background-color: white;}#sk-container-id-1 label.sk-toggleable__label {cursor: pointer;display: block;width: 100%;margin-bottom: 0;padding: 0.3em;box-sizing: border-box;text-align: center;}#sk-container-id-1 label.sk-toggleable__label-arrow:before {content: \"▸\";float: left;margin-right: 0.25em;color: #696969;}#sk-container-id-1 label.sk-toggleable__label-arrow:hover:before {color: black;}#sk-container-id-1 div.sk-estimator:hover label.sk-toggleable__label-arrow:before {color: black;}#sk-container-id-1 div.sk-toggleable__content {max-height: 0;max-width: 0;overflow: hidden;text-align: left;background-color: #f0f8ff;}#sk-container-id-1 div.sk-toggleable__content pre {margin: 0.2em;color: black;border-radius: 0.25em;background-color: #f0f8ff;}#sk-container-id-1 input.sk-toggleable__control:checked~div.sk-toggleable__content {max-height: 200px;max-width: 100%;overflow: auto;}#sk-container-id-1 input.sk-toggleable__control:checked~label.sk-toggleable__label-arrow:before {content: \"▾\";}#sk-container-id-1 div.sk-estimator input.sk-toggleable__control:checked~label.sk-toggleable__label {background-color: #d4ebff;}#sk-container-id-1 div.sk-label input.sk-toggleable__control:checked~label.sk-toggleable__label {background-color: #d4ebff;}#sk-container-id-1 input.sk-hidden--visually {border: 0;clip: rect(1px 1px 1px 1px);clip: rect(1px, 1px, 1px, 1px);height: 1px;margin: -1px;overflow: hidden;padding: 0;position: absolute;width: 1px;}#sk-container-id-1 div.sk-estimator {font-family: monospace;background-color: #f0f8ff;border: 1px dotted black;border-radius: 0.25em;box-sizing: border-box;margin-bottom: 0.5em;}#sk-container-id-1 div.sk-estimator:hover {background-color: #d4ebff;}#sk-container-id-1 div.sk-parallel-item::after {content: \"\";width: 100%;border-bottom: 1px solid gray;flex-grow: 1;}#sk-container-id-1 div.sk-label:hover label.sk-toggleable__label {background-color: #d4ebff;}#sk-container-id-1 div.sk-serial::before {content: \"\";position: absolute;border-left: 1px solid gray;box-sizing: border-box;top: 0;bottom: 0;left: 50%;z-index: 0;}#sk-container-id-1 div.sk-serial {display: flex;flex-direction: column;align-items: center;background-color: white;padding-right: 0.2em;padding-left: 0.2em;position: relative;}#sk-container-id-1 div.sk-item {position: relative;z-index: 1;}#sk-container-id-1 div.sk-parallel {display: flex;align-items: stretch;justify-content: center;background-color: white;position: relative;}#sk-container-id-1 div.sk-item::before, #sk-container-id-1 div.sk-parallel-item::before {content: \"\";position: absolute;border-left: 1px solid gray;box-sizing: border-box;top: 0;bottom: 0;left: 50%;z-index: -1;}#sk-container-id-1 div.sk-parallel-item {display: flex;flex-direction: column;z-index: 1;position: relative;background-color: white;}#sk-container-id-1 div.sk-parallel-item:first-child::after {align-self: flex-end;width: 50%;}#sk-container-id-1 div.sk-parallel-item:last-child::after {align-self: flex-start;width: 50%;}#sk-container-id-1 div.sk-parallel-item:only-child::after {width: 0;}#sk-container-id-1 div.sk-dashed-wrapped {border: 1px dashed gray;margin: 0 0.4em 0.5em 0.4em;box-sizing: border-box;padding-bottom: 0.4em;background-color: white;}#sk-container-id-1 div.sk-label label {font-family: monospace;font-weight: bold;display: inline-block;line-height: 1.2em;}#sk-container-id-1 div.sk-label-container {text-align: center;}#sk-container-id-1 div.sk-container {/* jupyter's `normalize.less` sets `[hidden] { display: none; }` but bootstrap.min.css set `[hidden] { display: none !important; }` so we also need the `!important` here to be able to override the default hidden behavior on the sphinx rendered scikit-learn.org. See: https://github.com/scikit-learn/scikit-learn/issues/21755 */display: inline-block !important;position: relative;}#sk-container-id-1 div.sk-text-repr-fallback {display: none;}</style><div id=\"sk-container-id-1\" class=\"sk-top-container\"><div class=\"sk-text-repr-fallback\"><pre>LinearRegression()</pre><b>In a Jupyter environment, please rerun this cell to show the HTML representation or trust the notebook. <br />On GitHub, the HTML representation is unable to render, please try loading this page with nbviewer.org.</b></div><div class=\"sk-container\" hidden><div class=\"sk-item\"><div class=\"sk-estimator sk-toggleable\"><input class=\"sk-toggleable__control sk-hidden--visually\" id=\"sk-estimator-id-1\" type=\"checkbox\" checked><label for=\"sk-estimator-id-1\" class=\"sk-toggleable__label sk-toggleable__label-arrow\">LinearRegression</label><div class=\"sk-toggleable__content\"><pre>LinearRegression()</pre></div></div></div></div></div>"
      ],
      "text/plain": [
       "LinearRegression()"
      ]
     },
     "execution_count": 8,
     "metadata": {},
     "output_type": "execute_result"
    }
   ],
   "source": [
    "lm = linear_model.LinearRegression()\n",
    "lm.fit(X,y)"
   ]
  },
  {
   "cell_type": "code",
   "execution_count": 9,
   "id": "be7ff80c",
   "metadata": {},
   "outputs": [
    {
     "name": "stdout",
     "output_type": "stream",
     "text": [
      "mse = 4.55\n",
      "rmse = 2.13\n",
      "r2 score = 0.9\n",
      "mae = 1.65\n"
     ]
    }
   ],
   "source": [
    "predictions_test2 = lm.predict(X1)\n",
    "mse = round(mean_squared_error(y1,predictions_test2), 2)\n",
    "rmse = round(np.sqrt(mse), 2)\n",
    "r2 = round(r2_score(y1, predictions_test2), 2)\n",
    "mae = round(mean_absolute_error(y1, predictions_test2), 2)\n",
    "        \n",
    "print(\"mse =\",mse)\n",
    "print(\"rmse =\",rmse)\n",
    "print(\"r2 score =\",r2)\n",
    "print(\"mae =\",mae)\n",
    "        "
   ]
  },
  {
   "cell_type": "code",
   "execution_count": null,
   "id": "72ee7b5a",
   "metadata": {},
   "outputs": [],
   "source": []
  }
 ],
 "metadata": {
  "kernelspec": {
   "display_name": "Python 3 (ipykernel)",
   "language": "python",
   "name": "python3"
  },
  "language_info": {
   "codemirror_mode": {
    "name": "ipython",
    "version": 3
   },
   "file_extension": ".py",
   "mimetype": "text/x-python",
   "name": "python",
   "nbconvert_exporter": "python",
   "pygments_lexer": "ipython3",
   "version": "3.11.3"
  }
 },
 "nbformat": 4,
 "nbformat_minor": 5
}
